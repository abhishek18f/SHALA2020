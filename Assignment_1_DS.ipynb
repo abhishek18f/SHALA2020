{
  "nbformat": 4,
  "nbformat_minor": 0,
  "metadata": {
    "colab": {
      "name": "Assignment -1 - DS.ipynb",
      "provenance": [],
      "collapsed_sections": []
    },
    "kernelspec": {
      "name": "python3",
      "display_name": "Python 3"
    }
  },
  "cells": [
    {
      "cell_type": "markdown",
      "metadata": {
        "id": "hmr2U-GChnlR",
        "colab_type": "text"
      },
      "source": [
        "\n",
        "# **Assignment - 1 : Getting Started**\n",
        "\n",
        "---\n",
        "\n",
        "This assignment will get you familiarized with python libraries required for ***data science*** and ***machine learning***. You will have to complete the code snippets and run them. "
      ]
    },
    {
      "cell_type": "markdown",
      "metadata": {
        "id": "211pD45xEO0u",
        "colab_type": "text"
      },
      "source": [
        "## **Note :**   Use only the methods and attributes of the ```numpy``` library. **Do not** hard-code them. Avoid loops as much as possible."
      ]
    },
    {
      "cell_type": "markdown",
      "metadata": {
        "id": "O7v9C4mun3SQ",
        "colab_type": "text"
      },
      "source": [
        "---\n",
        "## Part - 1\n",
        " In this part, you will work with the library ```numpy```. \n",
        "\n",
        "\n"
      ]
    },
    {
      "cell_type": "markdown",
      "metadata": {
        "id": "846yDaXQwiMD",
        "colab_type": "text"
      },
      "source": [
        "Import ```numpy``` with an alias name ```np```. Initialize two arrays $a$, $b$ of size $3 \\times 5$ with random values and print them. "
      ]
    },
    {
      "cell_type": "code",
      "metadata": {
        "id": "_MyeCO3_o3oq",
        "colab_type": "code",
        "colab": {}
      },
      "source": [
        "import numpy as np"
      ],
      "execution_count": 0,
      "outputs": []
    },
    {
      "cell_type": "markdown",
      "metadata": {
        "id": "p7jtpYT4wiO6",
        "colab_type": "text"
      },
      "source": [
        "Initialize and print two arrays $c$ and $d$ having the following properties:\n",
        "*   $c$ is a row vector with all non-negative integer values less than 100\n",
        "* $d$ is a square matrix of size 3 having all entries as 0.0"
      ]
    },
    {
      "cell_type": "code",
      "metadata": {
        "id": "a2lJdRf8x9f2",
        "colab_type": "code",
        "colab": {
          "base_uri": "https://localhost:8080/",
          "height": 156
        },
        "outputId": "60ad4130-9404-4e25-ddbb-5695077e3c43"
      },
      "source": [
        "c = np.array([x for x in range(100)])\n",
        "d = np.zeros((3,3))\n",
        "print(c)\n",
        "print(d)"
      ],
      "execution_count": 2,
      "outputs": [
        {
          "output_type": "stream",
          "text": [
            "[ 0  1  2  3  4  5  6  7  8  9 10 11 12 13 14 15 16 17 18 19 20 21 22 23\n",
            " 24 25 26 27 28 29 30 31 32 33 34 35 36 37 38 39 40 41 42 43 44 45 46 47\n",
            " 48 49 50 51 52 53 54 55 56 57 58 59 60 61 62 63 64 65 66 67 68 69 70 71\n",
            " 72 73 74 75 76 77 78 79 80 81 82 83 84 85 86 87 88 89 90 91 92 93 94 95\n",
            " 96 97 98 99]\n",
            "[[0. 0. 0.]\n",
            " [0. 0. 0.]\n",
            " [0. 0. 0.]]\n"
          ],
          "name": "stdout"
        }
      ]
    },
    {
      "cell_type": "markdown",
      "metadata": {
        "id": "qqgtSsa88Zmh",
        "colab_type": "text"
      },
      "source": [
        "We have $e$ as following : ```e = [[1,2,3],[4,5,6],[7,8,9]]```. Change $e$ as a numpy array and print it."
      ]
    },
    {
      "cell_type": "code",
      "metadata": {
        "id": "Krhm4bVE7RET",
        "colab_type": "code",
        "colab": {
          "base_uri": "https://localhost:8080/",
          "height": 69
        },
        "outputId": "20966ac6-e223-42a7-9f68-aac5f4c37299"
      },
      "source": [
        "e = [[1,2,3],[4,5,6],[7,8,9]]\n",
        "e = np.array(e)\n",
        "e\n"
      ],
      "execution_count": 3,
      "outputs": [
        {
          "output_type": "execute_result",
          "data": {
            "text/plain": [
              "array([[1, 2, 3],\n",
              "       [4, 5, 6],\n",
              "       [7, 8, 9]])"
            ]
          },
          "metadata": {
            "tags": []
          },
          "execution_count": 3
        }
      ]
    },
    {
      "cell_type": "markdown",
      "metadata": {
        "id": "1qTikI0foam9",
        "colab_type": "text"
      },
      "source": [
        "$f$ and $g$ are two square matrices of size 5 such that all the entries of $f$ are 1 and $g$ is an identity matrix. Initialize them and print them"
      ]
    },
    {
      "cell_type": "code",
      "metadata": {
        "id": "DvaLckI49aBV",
        "colab_type": "code",
        "colab": {
          "base_uri": "https://localhost:8080/",
          "height": 191
        },
        "outputId": "46901ac5-5cf0-49e4-c105-55cf377428d2"
      },
      "source": [
        "f  = np.ones((5,5))\n",
        "g = np.eye(5)\n",
        "\n",
        "print( f)\n",
        "print(g)"
      ],
      "execution_count": 4,
      "outputs": [
        {
          "output_type": "stream",
          "text": [
            "[[1. 1. 1. 1. 1.]\n",
            " [1. 1. 1. 1. 1.]\n",
            " [1. 1. 1. 1. 1.]\n",
            " [1. 1. 1. 1. 1.]\n",
            " [1. 1. 1. 1. 1.]]\n",
            "[[1. 0. 0. 0. 0.]\n",
            " [0. 1. 0. 0. 0.]\n",
            " [0. 0. 1. 0. 0.]\n",
            " [0. 0. 0. 1. 0.]\n",
            " [0. 0. 0. 0. 1.]]\n"
          ],
          "name": "stdout"
        }
      ]
    },
    {
      "cell_type": "markdown",
      "metadata": {
        "id": "gcBZAZibAKcg",
        "colab_type": "text"
      },
      "source": [
        "Reshape $c$ into a $10 \\times 10$ matrix and name it $h$. Now flatten $h$, call it $c^\\prime$ and print **YES** when the shapes of $c$ and $c^\\prime$ are same. Otherwise print **NO**."
      ]
    },
    {
      "cell_type": "code",
      "metadata": {
        "id": "I71vtO9bA9Pi",
        "colab_type": "code",
        "colab": {
          "base_uri": "https://localhost:8080/",
          "height": 34
        },
        "outputId": "43427b82-b7d3-4e69-f923-72c70b184867"
      },
      "source": [
        "h = c.reshape((10,10))\n",
        "c_ = h.flatten()\n",
        "\n",
        "if (c.shape == c_.shape):\n",
        "  print(\"YES\")\n",
        "else:\n",
        "  print(\"NO\")  "
      ],
      "execution_count": 5,
      "outputs": [
        {
          "output_type": "stream",
          "text": [
            "YES\n"
          ],
          "name": "stdout"
        }
      ]
    },
    {
      "cell_type": "markdown",
      "metadata": {
        "id": "8FrecDPiA-Bv",
        "colab_type": "text"
      },
      "source": [
        "Let $A$ denote a randomly initialized three dimensional matrix of shape (2,10,5). Transpose $A$, call it $A^\\prime$, such that its shape is (5,2,10) and print it."
      ]
    },
    {
      "cell_type": "code",
      "metadata": {
        "id": "VbOKqSm6Bkaq",
        "colab_type": "code",
        "colab": {
          "base_uri": "https://localhost:8080/",
          "height": 434
        },
        "outputId": "f6017816-bc8e-4285-f710-50f9ecaa2e7f"
      },
      "source": [
        "A = np.random.rand(2,10,5)\n",
        "\n",
        "A_ = np.transpose(A , (2 , 0 , 1))\n",
        "A_"
      ],
      "execution_count": 6,
      "outputs": [
        {
          "output_type": "execute_result",
          "data": {
            "text/plain": [
              "array([[[0.93501032, 0.06837057, 0.60387762, 0.89716592, 0.91348091,\n",
              "         0.71671868, 0.08955872, 0.04562169, 0.60018936, 0.37650764],\n",
              "        [0.24952839, 0.3042593 , 0.94744316, 0.73999674, 0.23807365,\n",
              "         0.81765651, 0.38928401, 0.33219485, 0.88546027, 0.85275373]],\n",
              "\n",
              "       [[0.70381759, 0.50519384, 0.23392588, 0.11825218, 0.0423758 ,\n",
              "         0.03034203, 0.83483459, 0.65742601, 0.40188675, 0.82394141],\n",
              "        [0.41725573, 0.69129673, 0.32485072, 0.57423677, 0.48407653,\n",
              "         0.6867774 , 0.13916662, 0.31643195, 0.39120443, 0.44911733]],\n",
              "\n",
              "       [[0.97425657, 0.29986232, 0.57088572, 0.12897025, 0.66130526,\n",
              "         0.2781355 , 0.06304605, 0.7650222 , 0.01292807, 0.99645675],\n",
              "        [0.48208852, 0.85320496, 0.12724023, 0.8693079 , 0.65056347,\n",
              "         0.43781845, 0.8583783 , 0.93572477, 0.47365575, 0.7018647 ]],\n",
              "\n",
              "       [[0.26210764, 0.06342255, 0.10430959, 0.21779499, 0.56591136,\n",
              "         0.00195991, 0.15080316, 0.22057455, 0.57999831, 0.2369727 ],\n",
              "        [0.62862551, 0.35018064, 0.95888044, 0.87796982, 0.76281833,\n",
              "         0.73168271, 0.79957831, 0.09932502, 0.02247445, 0.76056982]],\n",
              "\n",
              "       [[0.16655213, 0.6787159 , 0.69496144, 0.64293701, 0.80544117,\n",
              "         0.66722903, 0.18347453, 0.06411565, 0.63246955, 0.67416042],\n",
              "        [0.16118633, 0.4074263 , 0.62460699, 0.18678762, 0.45453532,\n",
              "         0.25055669, 0.72112962, 0.81589193, 0.06086929, 0.87015599]]])"
            ]
          },
          "metadata": {
            "tags": []
          },
          "execution_count": 6
        }
      ]
    },
    {
      "cell_type": "markdown",
      "metadata": {
        "id": "xR2zd-nkCani",
        "colab_type": "text"
      },
      "source": [
        "You have a matrix $X$ of size (10,5) filled with random values. Print the following :\n",
        "* Minimum value and index where it occured, for each column\n",
        "* Maximum value and the index where it occured, for each column\n",
        "* Minimum value and index where it occured, for each row\n",
        "* Maximum value and index where it occured, for each row\n",
        "* Minimum value and index where it occured, for the entire matrix\n",
        "* Maximum value and index where it occured, for the entire matrix"
      ]
    },
    {
      "cell_type": "code",
      "metadata": {
        "id": "FR2Wd4fWD_Og",
        "colab_type": "code",
        "colab": {
          "base_uri": "https://localhost:8080/",
          "height": 260
        },
        "outputId": "59d50bac-736c-4343-d246-11c48485edef"
      },
      "source": [
        "X = np.random.rand(10,5)\n",
        "print(\"min for each column = {}\".format(np.amin(X , axis = 0)))\n",
        "print(\"min index for each column = {}\".format(np.argmin(X , axis = 0)))\n",
        "\n",
        "print(\"max for each column = {}\".format(np.amax(X , axis = 0)))\n",
        "print(\"max index  for each column = {}\".format(np.argmax(X , axis = 0)))\n",
        "\n",
        "print(\"mix for each row = {}\".format(np.amin(X , axis =1 )))\n",
        "print(\"min index  for each row = {}\".format(np.argmin(X , axis =1 )))\n",
        "\n",
        "print(\"max for each row = {}\".format(np.amax(X , axis = 1)))\n",
        "print(\"max index for each row = {}\".format(np.argmax(X , axis = 1)))\n",
        "\n",
        "print(\"max for entire matrix = {}\".format(np.amax(X )))\n",
        "print(\"max index for entire matrix = {}\".format(np.argmax(X )))\n",
        "\n",
        "print(\"min for entire matrix = {}\".format(np.amin(X )))\n",
        "print(\"min index for entire matrix = {}\".format(np.argmin(X )))"
      ],
      "execution_count": 7,
      "outputs": [
        {
          "output_type": "stream",
          "text": [
            "min for each column = [0.08507721 0.12816603 0.17368716 0.07066701 0.19741646]\n",
            "min index for each column = [2 1 7 1 3]\n",
            "max for each column = [0.93825201 0.92359979 0.93707012 0.86865281 0.93282116]\n",
            "max index  for each column = [8 2 1 8 4]\n",
            "mix for each row = [0.27955824 0.07066701 0.08507721 0.19741646 0.25235403 0.17486958\n",
            " 0.40826336 0.12986425 0.37209867 0.16492334]\n",
            "min index  for each row = [3 3 0 4 2 2 2 3 2 3]\n",
            "max for each row = [0.91631089 0.93707012 0.92359979 0.64146768 0.93282116 0.74698577\n",
            " 0.85860479 0.52427603 0.93825201 0.73675446]\n",
            "max index for each row = [4 2 1 3 4 1 0 1 0 1]\n",
            "max for entire matrix = 0.9382520110701609\n",
            "max index for entire matrix = 40\n",
            "min for entire matrix = 0.07066701447157753\n",
            "min index for entire matrix = 8\n"
          ],
          "name": "stdout"
        }
      ]
    },
    {
      "cell_type": "markdown",
      "metadata": {
        "id": "YpjW2ypkEGtS",
        "colab_type": "text"
      },
      "source": [
        "Find and print the following for the matrix X: \n",
        "* Mean of each row and column\n",
        "* Standard deviation of each row and column\n",
        "* Mean of the entire matrix\n",
        "* Standard deviation of entire matrix"
      ]
    },
    {
      "cell_type": "code",
      "metadata": {
        "id": "gMdm2pw0GWjf",
        "colab_type": "code",
        "colab": {
          "base_uri": "https://localhost:8080/",
          "height": 156
        },
        "outputId": "8c2a7c14-3708-481f-e516-5f30a58e7ec4"
      },
      "source": [
        "print(\"mean of each row ={} \".format(X.mean(axis= 1)))\n",
        "print(\"mean of each column ={} \".format(X.mean(axis= 0)))\n",
        "print(\"mean of entire marix ={} \".format(X.mean()))\n",
        "\n",
        "print(\"standard deviation of each row ={} \".format(X.std(axis= 1)))\n",
        "print(\"standard deviation of each column ={} \".format(X.std(axis= 0)))\n",
        "print(\"standard deviation of entire matrix ={} \".format(X.std()))"
      ],
      "execution_count": 8,
      "outputs": [
        {
          "output_type": "stream",
          "text": [
            "mean of each row =[0.57793616 0.55631921 0.50866531 0.46864494 0.71404068 0.56068041\n",
            " 0.66890196 0.30160961 0.59454219 0.48108083] \n",
            "mean of each column =[0.57985595 0.59767892 0.44244187 0.51386752 0.58236639] \n",
            "mean of entire marix =0.5432421297451491 \n",
            "standard deviation of each row =[0.22156148 0.37792672 0.28793313 0.14738323 0.24057369 0.21236113\n",
            " 0.15045648 0.14031414 0.25350539 0.19953909] \n",
            "standard deviation of each column =[0.26558442 0.215152   0.22412142 0.29939852 0.24197199] \n",
            "standard deviation of entire matrix =0.25772233212874307 \n"
          ],
          "name": "stdout"
        }
      ]
    },
    {
      "cell_type": "markdown",
      "metadata": {
        "id": "7dw7W8HOGXKA",
        "colab_type": "text"
      },
      "source": [
        "Let $Y$ denote a square matrix of size 10 with random values. Print the following:\n",
        "* Determinant\n",
        "* Rank of the matrix\n",
        "* Diagonal Elements\n",
        "* Trace\n",
        "* Eigen values\n",
        "* Matrices obtained after Singular Value Decomposition\n",
        "* Inverse if exists, otherwise Pseudo-Inverse\n",
        "* Multiplication $Y$ with $X$\n",
        "* Element-wise multiplication of $Y$ and its inverse(or pseudo-inverse)"
      ]
    },
    {
      "cell_type": "code",
      "metadata": {
        "id": "Tswbn9hgL7yi",
        "colab_type": "code",
        "colab": {
          "base_uri": "https://localhost:8080/",
          "height": 1000
        },
        "outputId": "0d2cfc4f-0219-46b5-ec1c-5b2d4241adfc"
      },
      "source": [
        "np.random.seed(3)\n",
        "Y = np.random.rand(10,10)\n",
        "print(\"det:{}\".format(np.linalg.det(Y)))\n",
        "print(\"rank:{}\".format(np.linalg.matrix_rank(Y)))\n",
        "print(\"trace:{}\".format(np.trace(Y)))\n",
        "eigen_val , _ = np.linalg.eig(Y)\n",
        "print(\"eigen_val:{}\".format(eigen_val))\n",
        "\n",
        "u , s , vh = np.linalg.svd(Y)\n",
        "print(\"U of Y:\\n{}\\nV of Y:\\n{}\\nsingular values of Y:\\n{}\".format(u , vh , s))\n",
        "\n",
        "print(\"inverse:{}\".format(np.linalg.pinv(Y)))\n",
        "print(\"X*Y = {}\".format(np.dot(Y,X)))\n",
        "print(\"elementwisw mult. of X and Y:{}\".format(Y*np.linalg.pinv(Y)))\n"
      ],
      "execution_count": 9,
      "outputs": [
        {
          "output_type": "stream",
          "text": [
            "det:-0.012807808169095483\n",
            "rank:10\n",
            "trace:4.497309545724899\n",
            "eigen_val:[ 4.797525  +0.j          0.72411408+0.52238181j  0.72411408-0.52238181j\n",
            " -0.48250062+0.55413671j -0.48250062-0.55413671j -0.6909002 +0.j\n",
            " -0.25905659+0.32357377j -0.25905659-0.32357377j  0.2127855 +0.08352477j\n",
            "  0.2127855 -0.08352477j]\n",
            "U of Y:\n",
            "[[-0.31776408 -0.02455508 -0.60644878 -0.17883359 -0.12672161  0.14873878\n",
            "  -0.17823942 -0.52859453 -0.02295855 -0.38570883]\n",
            " [-0.26118514 -0.10864541 -0.24911354  0.26547359  0.52168399 -0.25773901\n",
            "  -0.46995326  0.21752636 -0.39285046  0.16234491]\n",
            " [-0.31347907 -0.34483471 -0.25292297  0.1214296   0.1486964   0.33436315\n",
            "   0.54080229  0.48017168  0.05660692 -0.20966421]\n",
            " [-0.35815379  0.59490017  0.30255161  0.15850614 -0.11046295  0.3051409\n",
            "   0.07395537  0.03044889 -0.50561658 -0.18384856]\n",
            " [-0.28385845 -0.18085696 -0.1583078   0.10535533 -0.46807835 -0.08377643\n",
            "   0.24075452 -0.16170764 -0.24786952  0.69201648]\n",
            " [-0.28871348 -0.27577124  0.40271105  0.60433658  0.11931679 -0.04899205\n",
            "   0.02593316 -0.44875145  0.27874747 -0.12964796]\n",
            " [-0.27897316  0.00398904  0.20819753 -0.52536617  0.41116881 -0.41991923\n",
            "   0.42687225 -0.24145621 -0.12958507 -0.00984813]\n",
            " [-0.24788529  0.48136836 -0.15792433 -0.02303902  0.3246308   0.25755952\n",
            "  -0.01429533 -0.03088365  0.56052488  0.44079262]\n",
            " [-0.37505167 -0.36728578  0.39799373 -0.45186801 -0.10830044  0.34456765\n",
            "  -0.4447402   0.14147957  0.0716725   0.09192695]\n",
            " [-0.40049601  0.19846099 -0.02705464  0.02500837 -0.39745062 -0.57941613\n",
            "  -0.10288216  0.3673956   0.33321483 -0.22039139]]\n",
            "V of Y:\n",
            "[[-0.28816735 -0.35560525 -0.33294235 -0.33250662 -0.36658188 -0.3625847\n",
            "  -0.26573249 -0.23278667 -0.30457183 -0.29270444]\n",
            " [ 0.53693497  0.11306854  0.39562078  0.25099719 -0.07369559 -0.37753546\n",
            "  -0.08584363  0.00333609 -0.2399022  -0.51623983]\n",
            " [-0.084609   -0.22589744 -0.00306935  0.1954239  -0.327784   -0.49318928\n",
            "   0.42323124  0.18588504  0.58200169  0.02301787]\n",
            " [ 0.01388163 -0.2631197   0.42190391 -0.53612946  0.01058633 -0.04415909\n",
            "   0.29385139  0.49501812 -0.32731018  0.15669071]\n",
            " [-0.27340804  0.28220631  0.28945859 -0.1626885   0.14790418 -0.35915036\n",
            "  -0.64971879  0.23854611  0.29589227  0.1337842 ]\n",
            " [ 0.10830593  0.27974551 -0.20571161  0.10308827  0.10096026 -0.5325142\n",
            "   0.15994871 -0.16150892 -0.3941055   0.59692177]\n",
            " [ 0.44882085  0.34972045 -0.01773924 -0.50737391 -0.52251393  0.11970007\n",
            "  -0.02807841 -0.20137782  0.25705553  0.15409283]\n",
            " [-0.35599817 -0.05022624  0.63427946  0.20935183 -0.34847081  0.11510691\n",
            "   0.03182222 -0.47748403 -0.1161671   0.21777064]\n",
            " [ 0.18417681 -0.32168889  0.15954963 -0.32397524  0.5548368  -0.1807982\n",
            "   0.08626619 -0.55063636  0.28439362 -0.01119242]\n",
            " [-0.41560913  0.59522266  0.02089304 -0.23979844  0.13515565 -0.0893732\n",
            "   0.44674689 -0.10709455 -0.02239562 -0.42098815]]\n",
            "singular values of Y:\n",
            "[4.89636645 1.42832104 1.17173389 0.94068764 0.76892251 0.62457278\n",
            " 0.52105948 0.28969576 0.24512275 0.09350223]\n",
            "inverse:[[ 2.31470983 -1.92264991  0.7642126   0.78096977 -2.74248585  1.20175092\n",
            "   0.38693174 -1.37664514 -0.96484143  0.83123246]\n",
            " [-2.24504111  1.25605742 -0.91466223 -0.39587642  4.71823627 -1.32162185\n",
            "   0.52594984  2.39368168  0.33051878 -2.33540101]\n",
            " [-1.41290916  0.66149939  0.94968095 -0.18869248 -0.50069581 -0.55664939\n",
            "  -0.55275157  0.57384943 -0.04209635  1.11025544]\n",
            " [ 0.88051129  0.37055438  0.15632501  1.25248223 -1.81219563 -0.7249179\n",
            "  -0.19613524 -1.81766381  0.56943994  0.52226388]\n",
            " [ 0.39743656 -0.28842728 -1.09880632 -1.57965965  0.36480771  0.90235521\n",
            "  -0.47743451  2.09911148  0.53638288 -0.04562024]\n",
            " [ 0.36068175  0.22958502  0.33426258  0.10367281 -0.06700744 -0.37158555\n",
            "   0.22972702 -1.26286862 -0.45133033  0.75430018]\n",
            " [-2.01045364  0.19347423 -1.01393804 -0.74303568  3.56449935 -0.31892146\n",
            "  -0.67116163  2.01265699  0.72873355 -0.69454601]\n",
            " [ 1.18043988  0.86047396 -0.88991494  1.30425635 -0.14247318  0.69661973\n",
            "   0.5413572  -1.69774697 -0.60797727 -1.00698216]\n",
            " [-0.1679456  -0.63197036 -0.0540802  -0.73587818 -0.46423184  0.67805628\n",
            "   0.88551393  0.37662528 -0.03416891  0.42341327]\n",
            " [ 1.3938872  -0.74982353  1.96636643  1.00676681 -3.21953806  0.44078124\n",
            "  -0.40298654 -1.90114336 -0.04414834  0.55576763]]\n",
            "X*Y = [[2.72879195 2.8070981  2.1119813  2.36043848 3.1364997 ]\n",
            " [2.10645302 2.45619242 1.57341419 2.03758504 2.24990587]\n",
            " [2.83581563 2.89661307 2.08721582 2.29080804 3.0217784 ]\n",
            " [3.03199563 3.33611583 2.90647935 2.77585568 3.16895617]\n",
            " [2.62341749 2.68079703 1.83725376 2.30358078 2.7571507 ]\n",
            " [2.77287485 2.95462727 1.76294089 2.48420313 2.63783063]\n",
            " [2.69467209 2.18818447 2.037477   2.30059203 2.3494821 ]\n",
            " [1.98381107 2.18227066 2.02922515 1.82159428 2.29799869]\n",
            " [3.8267598  3.28805358 2.47427169 3.28228607 3.23670421]\n",
            " [3.41850239 3.80655131 2.70763722 3.5265872  3.56896875]]\n",
            "elementwisw mult. of X and Y:[[ 1.27493732 -1.36152035  0.22231307  0.39894092 -2.44889439  1.07712104\n",
            "   0.04859294 -0.2852999  -0.04965769  0.36641545]\n",
            " [-0.06707332  0.57380876 -0.59374754 -0.11024655  3.19073041 -0.78089721\n",
            "   0.01261327  1.33771879  0.0856878  -0.96942775]\n",
            " [-0.40059519  0.45851031  0.4182905  -0.02959976 -0.27270348 -0.43436174\n",
            "  -0.16934292  0.12737041 -0.01633217  1.03962504]\n",
            " [ 0.85937499  0.24915472  0.14113555  1.05928794 -0.68499915 -0.06684976\n",
            "  -0.12815691 -1.01396696  0.20588942  0.11753784]\n",
            " [ 0.16156588 -0.13525516 -0.29583776 -0.46093327  0.16696753  0.77650726\n",
            "  -0.27989737  0.59507263  0.14910237 -0.02073997]\n",
            " [ 0.07408776  0.04623354  0.17182269  0.00904331 -0.03240383 -0.13457945\n",
            "   0.16257474 -0.94304237 -0.3119112   0.51984891]\n",
            " [-0.75110573  0.12926687 -0.34458549 -0.42560628  1.1613394  -0.14196631\n",
            "  -0.04129586  0.48842239  0.70803941 -0.16015134]\n",
            " [ 0.81624763  0.5597184  -0.64424426  0.61963734 -0.08500859  0.04665222\n",
            "   0.03928204 -0.33781095 -0.09232803 -0.10080329]\n",
            " [-0.02171434 -0.34965513 -0.01015706 -0.70063053 -0.31642589  0.36684179\n",
            "   0.62621827  0.09938639 -0.03166521  0.35532547]\n",
            " [ 1.01240745 -0.36009522  1.65588343  0.74979192 -2.12594439  0.40286315\n",
            "  -0.25535869 -0.69570551 -0.02440717  0.10914197]]\n"
          ],
          "name": "stdout"
        }
      ]
    },
    {
      "cell_type": "markdown",
      "metadata": {
        "id": "Qne3RnfOL6-4",
        "colab_type": "text"
      },
      "source": [
        "## End of Part - 1\n",
        " --- --- ---"
      ]
    },
    {
      "cell_type": "markdown",
      "metadata": {
        "id": "LA-m4UYkMPTe",
        "colab_type": "text"
      },
      "source": [
        "## Part - 2\n",
        "---\n",
        "In this part, you will be working with the library ```pandas```. Import this library with an alias name ```pd```."
      ]
    },
    {
      "cell_type": "code",
      "metadata": {
        "id": "i8z7TpnZSIms",
        "colab_type": "code",
        "colab": {}
      },
      "source": [
        "# Initial imports\n",
        "import numpy as np\n",
        "import pandas as pd\n",
        "import matplotlib.pyplot as plt\n"
      ],
      "execution_count": 0,
      "outputs": []
    },
    {
      "cell_type": "markdown",
      "metadata": {
        "id": "2v-HkHnyuQ3X",
        "colab_type": "text"
      },
      "source": [
        "Download dataset from: http://biostat.mc.vanderbilt.edu/wiki/pub/Main/DataSets/titanic3.csv\n",
        "Read the data and display the first 5 rows"
      ]
    },
    {
      "cell_type": "code",
      "metadata": {
        "id": "LinX5ywNTUIm",
        "colab_type": "code",
        "colab": {}
      },
      "source": [
        "#Download dataset from: http://biostat.mc.vanderbilt.edu/wiki/pub/Main/DataSets/titanic3.csv\n",
        "\n",
        "file_url = \"http://biostat.mc.vanderbilt.edu/wiki/pub/Main/DataSets/titanic3.csv\"\n",
        "\n",
        "df = pd.read_csv(file_url)"
      ],
      "execution_count": 0,
      "outputs": []
    },
    {
      "cell_type": "code",
      "metadata": {
        "id": "6SoZ_ujCiLR0",
        "colab_type": "code",
        "colab": {
          "base_uri": "https://localhost:8080/",
          "height": 206
        },
        "outputId": "6a6c45a4-8170-49ea-888a-92a14d4934f4"
      },
      "source": [
        "df.head()"
      ],
      "execution_count": 12,
      "outputs": [
        {
          "output_type": "execute_result",
          "data": {
            "text/html": [
              "<div>\n",
              "<style scoped>\n",
              "    .dataframe tbody tr th:only-of-type {\n",
              "        vertical-align: middle;\n",
              "    }\n",
              "\n",
              "    .dataframe tbody tr th {\n",
              "        vertical-align: top;\n",
              "    }\n",
              "\n",
              "    .dataframe thead th {\n",
              "        text-align: right;\n",
              "    }\n",
              "</style>\n",
              "<table border=\"1\" class=\"dataframe\">\n",
              "  <thead>\n",
              "    <tr style=\"text-align: right;\">\n",
              "      <th></th>\n",
              "      <th>pclass</th>\n",
              "      <th>survived</th>\n",
              "      <th>name</th>\n",
              "      <th>sex</th>\n",
              "      <th>age</th>\n",
              "      <th>sibsp</th>\n",
              "      <th>parch</th>\n",
              "      <th>ticket</th>\n",
              "      <th>fare</th>\n",
              "      <th>cabin</th>\n",
              "      <th>embarked</th>\n",
              "      <th>boat</th>\n",
              "      <th>body</th>\n",
              "      <th>home.dest</th>\n",
              "    </tr>\n",
              "  </thead>\n",
              "  <tbody>\n",
              "    <tr>\n",
              "      <th>0</th>\n",
              "      <td>1</td>\n",
              "      <td>1</td>\n",
              "      <td>Allen, Miss. Elisabeth Walton</td>\n",
              "      <td>female</td>\n",
              "      <td>29.00</td>\n",
              "      <td>0</td>\n",
              "      <td>0</td>\n",
              "      <td>24160</td>\n",
              "      <td>211.3375</td>\n",
              "      <td>B5</td>\n",
              "      <td>S</td>\n",
              "      <td>2</td>\n",
              "      <td>NaN</td>\n",
              "      <td>St Louis, MO</td>\n",
              "    </tr>\n",
              "    <tr>\n",
              "      <th>1</th>\n",
              "      <td>1</td>\n",
              "      <td>1</td>\n",
              "      <td>Allison, Master. Hudson Trevor</td>\n",
              "      <td>male</td>\n",
              "      <td>0.92</td>\n",
              "      <td>1</td>\n",
              "      <td>2</td>\n",
              "      <td>113781</td>\n",
              "      <td>151.5500</td>\n",
              "      <td>C22 C26</td>\n",
              "      <td>S</td>\n",
              "      <td>11</td>\n",
              "      <td>NaN</td>\n",
              "      <td>Montreal, PQ / Chesterville, ON</td>\n",
              "    </tr>\n",
              "    <tr>\n",
              "      <th>2</th>\n",
              "      <td>1</td>\n",
              "      <td>0</td>\n",
              "      <td>Allison, Miss. Helen Loraine</td>\n",
              "      <td>female</td>\n",
              "      <td>2.00</td>\n",
              "      <td>1</td>\n",
              "      <td>2</td>\n",
              "      <td>113781</td>\n",
              "      <td>151.5500</td>\n",
              "      <td>C22 C26</td>\n",
              "      <td>S</td>\n",
              "      <td>NaN</td>\n",
              "      <td>NaN</td>\n",
              "      <td>Montreal, PQ / Chesterville, ON</td>\n",
              "    </tr>\n",
              "    <tr>\n",
              "      <th>3</th>\n",
              "      <td>1</td>\n",
              "      <td>0</td>\n",
              "      <td>Allison, Mr. Hudson Joshua Creighton</td>\n",
              "      <td>male</td>\n",
              "      <td>30.00</td>\n",
              "      <td>1</td>\n",
              "      <td>2</td>\n",
              "      <td>113781</td>\n",
              "      <td>151.5500</td>\n",
              "      <td>C22 C26</td>\n",
              "      <td>S</td>\n",
              "      <td>NaN</td>\n",
              "      <td>135.0</td>\n",
              "      <td>Montreal, PQ / Chesterville, ON</td>\n",
              "    </tr>\n",
              "    <tr>\n",
              "      <th>4</th>\n",
              "      <td>1</td>\n",
              "      <td>0</td>\n",
              "      <td>Allison, Mrs. Hudson J C (Bessie Waldo Daniels)</td>\n",
              "      <td>female</td>\n",
              "      <td>25.00</td>\n",
              "      <td>1</td>\n",
              "      <td>2</td>\n",
              "      <td>113781</td>\n",
              "      <td>151.5500</td>\n",
              "      <td>C22 C26</td>\n",
              "      <td>S</td>\n",
              "      <td>NaN</td>\n",
              "      <td>NaN</td>\n",
              "      <td>Montreal, PQ / Chesterville, ON</td>\n",
              "    </tr>\n",
              "  </tbody>\n",
              "</table>\n",
              "</div>"
            ],
            "text/plain": [
              "   pclass  survived  ...   body                        home.dest\n",
              "0       1         1  ...    NaN                     St Louis, MO\n",
              "1       1         1  ...    NaN  Montreal, PQ / Chesterville, ON\n",
              "2       1         0  ...    NaN  Montreal, PQ / Chesterville, ON\n",
              "3       1         0  ...  135.0  Montreal, PQ / Chesterville, ON\n",
              "4       1         0  ...    NaN  Montreal, PQ / Chesterville, ON\n",
              "\n",
              "[5 rows x 14 columns]"
            ]
          },
          "metadata": {
            "tags": []
          },
          "execution_count": 12
        }
      ]
    },
    {
      "cell_type": "markdown",
      "metadata": {
        "id": "vTk1-mF5WYFN",
        "colab_type": "text"
      },
      "source": [
        "### Preprocessing of the Dataset"
      ]
    },
    {
      "cell_type": "markdown",
      "metadata": {
        "id": "kx9UrI9WWt17",
        "colab_type": "text"
      },
      "source": [
        "\n",
        "\n",
        "---\n",
        "\n",
        "\n",
        "**1. Convert the categorical values of columns 'sex', 'embarked', 'pclass' into dummy values and add them into titanic_data_new DataFrame**\n",
        "\n",
        "\n",
        "\n",
        "\n",
        "---\n",
        "\n"
      ]
    },
    {
      "cell_type": "code",
      "metadata": {
        "id": "AwDh9njbZ0QU",
        "colab_type": "code",
        "colab": {
          "base_uri": "https://localhost:8080/",
          "height": 206
        },
        "outputId": "908bb94f-b5e8-4208-8cc2-2604efa4d7db"
      },
      "source": [
        "d1 = pd.get_dummies(df['sex' ])\n",
        "d2 = pd.get_dummies(df['embarked' ])\n",
        "d3 = pd.get_dummies(df['pclass' ])\n",
        "titanic_data_new = pd.concat([df , d1  ,d2  , d3] , axis=1)\n",
        "titanic_data_new.head()"
      ],
      "execution_count": 13,
      "outputs": [
        {
          "output_type": "execute_result",
          "data": {
            "text/html": [
              "<div>\n",
              "<style scoped>\n",
              "    .dataframe tbody tr th:only-of-type {\n",
              "        vertical-align: middle;\n",
              "    }\n",
              "\n",
              "    .dataframe tbody tr th {\n",
              "        vertical-align: top;\n",
              "    }\n",
              "\n",
              "    .dataframe thead th {\n",
              "        text-align: right;\n",
              "    }\n",
              "</style>\n",
              "<table border=\"1\" class=\"dataframe\">\n",
              "  <thead>\n",
              "    <tr style=\"text-align: right;\">\n",
              "      <th></th>\n",
              "      <th>pclass</th>\n",
              "      <th>survived</th>\n",
              "      <th>name</th>\n",
              "      <th>sex</th>\n",
              "      <th>age</th>\n",
              "      <th>sibsp</th>\n",
              "      <th>parch</th>\n",
              "      <th>ticket</th>\n",
              "      <th>fare</th>\n",
              "      <th>cabin</th>\n",
              "      <th>embarked</th>\n",
              "      <th>boat</th>\n",
              "      <th>body</th>\n",
              "      <th>home.dest</th>\n",
              "      <th>female</th>\n",
              "      <th>male</th>\n",
              "      <th>C</th>\n",
              "      <th>Q</th>\n",
              "      <th>S</th>\n",
              "      <th>1</th>\n",
              "      <th>2</th>\n",
              "      <th>3</th>\n",
              "    </tr>\n",
              "  </thead>\n",
              "  <tbody>\n",
              "    <tr>\n",
              "      <th>0</th>\n",
              "      <td>1</td>\n",
              "      <td>1</td>\n",
              "      <td>Allen, Miss. Elisabeth Walton</td>\n",
              "      <td>female</td>\n",
              "      <td>29.00</td>\n",
              "      <td>0</td>\n",
              "      <td>0</td>\n",
              "      <td>24160</td>\n",
              "      <td>211.3375</td>\n",
              "      <td>B5</td>\n",
              "      <td>S</td>\n",
              "      <td>2</td>\n",
              "      <td>NaN</td>\n",
              "      <td>St Louis, MO</td>\n",
              "      <td>1</td>\n",
              "      <td>0</td>\n",
              "      <td>0</td>\n",
              "      <td>0</td>\n",
              "      <td>1</td>\n",
              "      <td>1</td>\n",
              "      <td>0</td>\n",
              "      <td>0</td>\n",
              "    </tr>\n",
              "    <tr>\n",
              "      <th>1</th>\n",
              "      <td>1</td>\n",
              "      <td>1</td>\n",
              "      <td>Allison, Master. Hudson Trevor</td>\n",
              "      <td>male</td>\n",
              "      <td>0.92</td>\n",
              "      <td>1</td>\n",
              "      <td>2</td>\n",
              "      <td>113781</td>\n",
              "      <td>151.5500</td>\n",
              "      <td>C22 C26</td>\n",
              "      <td>S</td>\n",
              "      <td>11</td>\n",
              "      <td>NaN</td>\n",
              "      <td>Montreal, PQ / Chesterville, ON</td>\n",
              "      <td>0</td>\n",
              "      <td>1</td>\n",
              "      <td>0</td>\n",
              "      <td>0</td>\n",
              "      <td>1</td>\n",
              "      <td>1</td>\n",
              "      <td>0</td>\n",
              "      <td>0</td>\n",
              "    </tr>\n",
              "    <tr>\n",
              "      <th>2</th>\n",
              "      <td>1</td>\n",
              "      <td>0</td>\n",
              "      <td>Allison, Miss. Helen Loraine</td>\n",
              "      <td>female</td>\n",
              "      <td>2.00</td>\n",
              "      <td>1</td>\n",
              "      <td>2</td>\n",
              "      <td>113781</td>\n",
              "      <td>151.5500</td>\n",
              "      <td>C22 C26</td>\n",
              "      <td>S</td>\n",
              "      <td>NaN</td>\n",
              "      <td>NaN</td>\n",
              "      <td>Montreal, PQ / Chesterville, ON</td>\n",
              "      <td>1</td>\n",
              "      <td>0</td>\n",
              "      <td>0</td>\n",
              "      <td>0</td>\n",
              "      <td>1</td>\n",
              "      <td>1</td>\n",
              "      <td>0</td>\n",
              "      <td>0</td>\n",
              "    </tr>\n",
              "    <tr>\n",
              "      <th>3</th>\n",
              "      <td>1</td>\n",
              "      <td>0</td>\n",
              "      <td>Allison, Mr. Hudson Joshua Creighton</td>\n",
              "      <td>male</td>\n",
              "      <td>30.00</td>\n",
              "      <td>1</td>\n",
              "      <td>2</td>\n",
              "      <td>113781</td>\n",
              "      <td>151.5500</td>\n",
              "      <td>C22 C26</td>\n",
              "      <td>S</td>\n",
              "      <td>NaN</td>\n",
              "      <td>135.0</td>\n",
              "      <td>Montreal, PQ / Chesterville, ON</td>\n",
              "      <td>0</td>\n",
              "      <td>1</td>\n",
              "      <td>0</td>\n",
              "      <td>0</td>\n",
              "      <td>1</td>\n",
              "      <td>1</td>\n",
              "      <td>0</td>\n",
              "      <td>0</td>\n",
              "    </tr>\n",
              "    <tr>\n",
              "      <th>4</th>\n",
              "      <td>1</td>\n",
              "      <td>0</td>\n",
              "      <td>Allison, Mrs. Hudson J C (Bessie Waldo Daniels)</td>\n",
              "      <td>female</td>\n",
              "      <td>25.00</td>\n",
              "      <td>1</td>\n",
              "      <td>2</td>\n",
              "      <td>113781</td>\n",
              "      <td>151.5500</td>\n",
              "      <td>C22 C26</td>\n",
              "      <td>S</td>\n",
              "      <td>NaN</td>\n",
              "      <td>NaN</td>\n",
              "      <td>Montreal, PQ / Chesterville, ON</td>\n",
              "      <td>1</td>\n",
              "      <td>0</td>\n",
              "      <td>0</td>\n",
              "      <td>0</td>\n",
              "      <td>1</td>\n",
              "      <td>1</td>\n",
              "      <td>0</td>\n",
              "      <td>0</td>\n",
              "    </tr>\n",
              "  </tbody>\n",
              "</table>\n",
              "</div>"
            ],
            "text/plain": [
              "   pclass  survived                                             name  ...  1  2  3\n",
              "0       1         1                    Allen, Miss. Elisabeth Walton  ...  1  0  0\n",
              "1       1         1                   Allison, Master. Hudson Trevor  ...  1  0  0\n",
              "2       1         0                     Allison, Miss. Helen Loraine  ...  1  0  0\n",
              "3       1         0             Allison, Mr. Hudson Joshua Creighton  ...  1  0  0\n",
              "4       1         0  Allison, Mrs. Hudson J C (Bessie Waldo Daniels)  ...  1  0  0\n",
              "\n",
              "[5 rows x 22 columns]"
            ]
          },
          "metadata": {
            "tags": []
          },
          "execution_count": 13
        }
      ]
    },
    {
      "cell_type": "markdown",
      "metadata": {
        "id": "Z9bxOfzDbY-n",
        "colab_type": "text"
      },
      "source": [
        "\n",
        "\n",
        "---\n",
        "\n",
        "\n",
        "**2. Fill the missing data in Age and Fare columns with the mean value of the respected column then add these columns to titanic_data_new**\n",
        "\n",
        "\n",
        "---\n",
        "\n"
      ]
    },
    {
      "cell_type": "code",
      "metadata": {
        "id": "DNx7Pr0ehhAs",
        "colab_type": "code",
        "colab": {
          "base_uri": "https://localhost:8080/",
          "height": 424
        },
        "outputId": "41afc5fb-1f9e-4aa9-b275-5ac4c9344c73"
      },
      "source": [
        "df[['age' , 'pclass']]"
      ],
      "execution_count": 16,
      "outputs": [
        {
          "output_type": "execute_result",
          "data": {
            "text/html": [
              "<div>\n",
              "<style scoped>\n",
              "    .dataframe tbody tr th:only-of-type {\n",
              "        vertical-align: middle;\n",
              "    }\n",
              "\n",
              "    .dataframe tbody tr th {\n",
              "        vertical-align: top;\n",
              "    }\n",
              "\n",
              "    .dataframe thead th {\n",
              "        text-align: right;\n",
              "    }\n",
              "</style>\n",
              "<table border=\"1\" class=\"dataframe\">\n",
              "  <thead>\n",
              "    <tr style=\"text-align: right;\">\n",
              "      <th></th>\n",
              "      <th>age</th>\n",
              "      <th>pclass</th>\n",
              "    </tr>\n",
              "  </thead>\n",
              "  <tbody>\n",
              "    <tr>\n",
              "      <th>0</th>\n",
              "      <td>29.00</td>\n",
              "      <td>1</td>\n",
              "    </tr>\n",
              "    <tr>\n",
              "      <th>1</th>\n",
              "      <td>0.92</td>\n",
              "      <td>1</td>\n",
              "    </tr>\n",
              "    <tr>\n",
              "      <th>2</th>\n",
              "      <td>2.00</td>\n",
              "      <td>1</td>\n",
              "    </tr>\n",
              "    <tr>\n",
              "      <th>3</th>\n",
              "      <td>30.00</td>\n",
              "      <td>1</td>\n",
              "    </tr>\n",
              "    <tr>\n",
              "      <th>4</th>\n",
              "      <td>25.00</td>\n",
              "      <td>1</td>\n",
              "    </tr>\n",
              "    <tr>\n",
              "      <th>...</th>\n",
              "      <td>...</td>\n",
              "      <td>...</td>\n",
              "    </tr>\n",
              "    <tr>\n",
              "      <th>1304</th>\n",
              "      <td>14.50</td>\n",
              "      <td>3</td>\n",
              "    </tr>\n",
              "    <tr>\n",
              "      <th>1305</th>\n",
              "      <td>NaN</td>\n",
              "      <td>3</td>\n",
              "    </tr>\n",
              "    <tr>\n",
              "      <th>1306</th>\n",
              "      <td>26.50</td>\n",
              "      <td>3</td>\n",
              "    </tr>\n",
              "    <tr>\n",
              "      <th>1307</th>\n",
              "      <td>27.00</td>\n",
              "      <td>3</td>\n",
              "    </tr>\n",
              "    <tr>\n",
              "      <th>1308</th>\n",
              "      <td>29.00</td>\n",
              "      <td>3</td>\n",
              "    </tr>\n",
              "  </tbody>\n",
              "</table>\n",
              "<p>1309 rows × 2 columns</p>\n",
              "</div>"
            ],
            "text/plain": [
              "        age  pclass\n",
              "0     29.00       1\n",
              "1      0.92       1\n",
              "2      2.00       1\n",
              "3     30.00       1\n",
              "4     25.00       1\n",
              "...     ...     ...\n",
              "1304  14.50       3\n",
              "1305    NaN       3\n",
              "1306  26.50       3\n",
              "1307  27.00       3\n",
              "1308  29.00       3\n",
              "\n",
              "[1309 rows x 2 columns]"
            ]
          },
          "metadata": {
            "tags": []
          },
          "execution_count": 16
        }
      ]
    },
    {
      "cell_type": "markdown",
      "metadata": {
        "id": "SlRzKfhxkd1M",
        "colab_type": "text"
      },
      "source": [
        "###Normalization\n",
        "\n",
        "\n",
        "---\n",
        "\n",
        "\n",
        "\n",
        "1. Normalize the columns which have numerical data\n",
        "\n",
        "\n",
        "\n",
        "---\n",
        "\n"
      ]
    },
    {
      "cell_type": "code",
      "metadata": {
        "id": "Y3hpu92TlM38",
        "colab_type": "code",
        "colab": {}
      },
      "source": [
        ""
      ],
      "execution_count": 0,
      "outputs": []
    },
    {
      "cell_type": "markdown",
      "metadata": {
        "id": "wB9-5x83mFAO",
        "colab_type": "text"
      },
      "source": [
        "\n",
        "\n",
        "---\n",
        "2. Drop the original age, fare columns\n",
        "3. Append the normalized columns to the titanic_data_new DataFrame.\n",
        "\n",
        "\n",
        "\n",
        "---\n",
        "\n"
      ]
    },
    {
      "cell_type": "code",
      "metadata": {
        "id": "Kb00kM0onQJy",
        "colab_type": "code",
        "colab": {}
      },
      "source": [
        "titanic_data_new = titanic_data_new.drop(['age',  'fare'] , axis = 1)\n"
      ],
      "execution_count": 0,
      "outputs": []
    },
    {
      "cell_type": "markdown",
      "metadata": {
        "id": "uLxN3PozntKe",
        "colab_type": "text"
      },
      "source": [
        "###Plotting\n",
        "1. plot the age against the ID(continuous)\n",
        "2. plot the fare against the ID(scatter)"
      ]
    },
    {
      "cell_type": "code",
      "metadata": {
        "id": "LdSfNEKYn_RO",
        "colab_type": "code",
        "colab": {
          "base_uri": "https://localhost:8080/",
          "height": 282
        },
        "outputId": "287ee6ef-8849-4aa7-ee34-c718add0876b"
      },
      "source": [
        "plt.plot( titanic_data_new.index , df['age'] )"
      ],
      "execution_count": 23,
      "outputs": [
        {
          "output_type": "execute_result",
          "data": {
            "text/plain": [
              "[<matplotlib.lines.Line2D at 0x7fac1fb7c0f0>]"
            ]
          },
          "metadata": {
            "tags": []
          },
          "execution_count": 23
        },
        {
          "output_type": "display_data",
          "data": {
            "image/png": "[encoded data removed]",
            "text/plain": [
              "<Figure size 432x288 with 1 Axes>"
            ]
          },
          "metadata": {
            "tags": [],
            "needs_background": "light"
          }
        }
      ]
    },
    {
      "cell_type": "markdown",
      "metadata": {
        "id": "LQr7y6eevTvy",
        "colab_type": "text"
      },
      "source": [
        "## End of Part - 2\n",
        "---"
      ]
    },
    {
      "cell_type": "markdown",
      "metadata": {
        "id": "TWhZcKvfvW2B",
        "colab_type": "text"
      },
      "source": [
        "## Part - 3\n",
        "---"
      ]
    },
    {
      "cell_type": "markdown",
      "metadata": {
        "id": "8bY4H9DszQ2S",
        "colab_type": "text"
      },
      "source": [
        "In this part, you will work with the library ```matplotlib```. Import the ```pyplot``` from ```matplotlib``` with an alias name ```plt```."
      ]
    },
    {
      "cell_type": "code",
      "metadata": {
        "id": "hPN6qctRzknT",
        "colab_type": "code",
        "colab": {}
      },
      "source": [
        "import matplotlib.pyplot as plt"
      ],
      "execution_count": 0,
      "outputs": []
    },
    {
      "cell_type": "markdown",
      "metadata": {
        "id": "fQ6KX_Aezlub",
        "colab_type": "text"
      },
      "source": [
        "Plot the sine function with domain in $[-3\\pi,3\\pi]$. Label the axes appropriately. Add title $\\sin(x)$. Use latex formatting while adding the title. Set the plot size to (10,10)"
      ]
    },
    {
      "cell_type": "code",
      "metadata": {
        "id": "0tA3J5mA1cQ0",
        "colab_type": "code",
        "colab": {
          "base_uri": "https://localhost:8080/",
          "height": 607
        },
        "outputId": "922e003c-67d6-4b1c-9d65-944d5d21cf82"
      },
      "source": [
        "plt.figure(figsize=(10,10))\n",
        "x = np.arange(0,3*np.pi,0.1) \n",
        "y = np.sin(x)\n",
        "\n",
        "plt.plot(x,y)\n",
        "plt.title('sinx')\n",
        "\n",
        "plt.show()\n",
        "\n"
      ],
      "execution_count": 34,
      "outputs": [
        {
          "output_type": "display_data",
          "data": {
            "image/png": "[encoded data removed]",
            "text/plain": [
              "<Figure size 720x720 with 1 Axes>"
            ]
          },
          "metadata": {
            "tags": [],
            "needs_background": "light"
          }
        }
      ]
    },
    {
      "cell_type": "markdown",
      "metadata": {
        "id": "6KV7RqMm1d8P",
        "colab_type": "text"
      },
      "source": [
        "Plot $\\sin(x)$ and its spectrum, $\\cos(x)$ and its spectrum in a single plot, in the domain $[-2\\pi,2\\pi]$. Label the plot appropriately."
      ]
    },
    {
      "cell_type": "code",
      "metadata": {
        "id": "-OJuY0HO12Oo",
        "colab_type": "code",
        "colab": {
          "base_uri": "https://localhost:8080/",
          "height": 265
        },
        "outputId": "cf9298cf-da12-45b8-bd9f-1e62dc6a0c9c"
      },
      "source": [
        "p = np.arange(-2*np.pi,2*np.pi,0.1)\n",
        "q = np.sin(p)\n",
        "r = np.cos(p)\n",
        "\n",
        "\n",
        "plt.plot(p,q , label = \"sinx\")\n",
        "plt.plot(p,r ,  label = \"cosx\")\n",
        "plt.legend()\n",
        "plt.show()\n",
        "\n"
      ],
      "execution_count": 32,
      "outputs": [
        {
          "output_type": "display_data",
          "data": {
            "image/png": "[encoded data removed]",
            "text/plain": [
              "<Figure size 432x288 with 1 Axes>"
            ]
          },
          "metadata": {
            "tags": [],
            "needs_background": "light"
          }
        }
      ]
    },
    {
      "cell_type": "markdown",
      "metadata": {
        "id": "1S6ZRm6B18ZF",
        "colab_type": "text"
      },
      "source": [
        "## End of Part - 3\n",
        "---"
      ]
    },
    {
      "cell_type": "markdown",
      "metadata": {
        "id": "MUucpzXBl096",
        "colab_type": "text"
      },
      "source": [
        "Create a Github repository with the name ***SHALA2020*** and save this assignment there."
      ]
    }
  ]
}